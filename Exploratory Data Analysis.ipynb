{
 "cells": [
  {
   "cell_type": "markdown",
   "metadata": {},
   "source": [
    "# Explore the dataset\n",
    "\n",
    "\n",
    "In this notebook, we will perform an EDA (Exploratory Data Analysis) on the processed Waymo dataset (data in the `processed` folder). In the first part, you will create a function to display "
   ]
  },
  {
   "cell_type": "code",
   "execution_count": null,
   "metadata": {},
   "outputs": [],
   "source": [
    "from utils import get_dataset\n",
    "import numpy as np\n",
    "import matplotlib.pyplot as plt\n",
    "import matplotlib.patches as patches\n",
    "from PIL import Image\n",
    "from PIL.ImageStat import Stat\n",
    "%matplotlib inline"
   ]
  },
  {
   "cell_type": "code",
   "execution_count": null,
   "metadata": {},
   "outputs": [],
   "source": [
    "dataset = get_dataset(\"/home/workspace/data/train/*.tfrecord\")"
   ]
  },
  {
   "cell_type": "markdown",
   "metadata": {},
   "source": [
    "## Write a function to display an image and the bounding boxes\n",
    "\n",
    "Implement the `display_instances` function below. This function takes a batch as an input and display an image with its corresponding bounding boxes. The only requirement is that the classes should be color coded (eg, vehicles in red, pedestrians in blue, cyclist in green)."
   ]
  },
  {
   "cell_type": "code",
   "execution_count": null,
   "metadata": {},
   "outputs": [],
   "source": [
    "def display_instances(batch, batch_size):\n",
    "    \"\"\"\n",
    "    This function takes a batch from the dataset and display the image with \n",
    "    the associated bounding boxes.\n",
    "    \"\"\"\n",
    "    colour_map = {1: 'r', 2: 'b', 4: 'g'}\n",
    "    fig, axes = plt.subplots(batch_size, 1, figsize=(10,10*batch_size))\n",
    "    for idx, X in enumerate(batch):\n",
    "        img = X[\"image\"]\n",
    "        boxes = X[\"groundtruth_boxes\"]\n",
    "        classes = X[\"groundtruth_classes\"]\n",
    "        img_width = img.shape[0]\n",
    "        axes[idx].imshow(img)\n",
    "        for jdx, box in enumerate(boxes):\n",
    "            y0, x0, y1, x1 = box[0]*img_width, box[1]*img_width, box[2]*img_width, box[3]*img_width\n",
    "            rect = patches.Rectangle((x0, y0), x1-x0, y1-y0, linewidth=1, edgecolor=colour_map[classes.numpy()[jdx]], facecolor='none')\n",
    "            axes[idx].add_patch(rect)\n",
    "        axes[idx].axis(\"off\")\n",
    "    plt.show()"
   ]
  },
  {
   "cell_type": "markdown",
   "metadata": {},
   "source": [
    "## Display 10 images \n",
    "\n",
    "Using the dataset created in the second cell and the function you just coded, display 10 random images with the associated bounding boxes. You can use the methods `take` and `shuffle` on the dataset."
   ]
  },
  {
   "cell_type": "code",
   "execution_count": null,
   "metadata": {
    "scrolled": false
   },
   "outputs": [],
   "source": [
    "## STUDENT SOLUTION HERE\n",
    "display_instances(dataset.shuffle(buffer_size=1024).take(10), 10)"
   ]
  },
  {
   "cell_type": "markdown",
   "metadata": {},
   "source": [
    "## Additional EDA\n",
    "\n",
    "In this last part, you are free to perform any additional analysis of the dataset. What else would like to know about the data?\n",
    "For example, think about data distribution. So far, you have only looked at a single file..."
   ]
  },
  {
   "cell_type": "code",
   "execution_count": null,
   "metadata": {},
   "outputs": [],
   "source": [
    "# Take 1000 random images from dataset and determine frequency of classes\n",
    "BS = 1000\n",
    "sample_dataset = dataset.shuffle(buffer_size=1024).take(BS)\n",
    "\n",
    "counts = np.zeros(5)\n",
    "for X in sample_dataset:\n",
    "    classes = X[\"groundtruth_classes\"]\n",
    "    counts = np.add(counts, np.bincount(classes.numpy(), minlength=5))\n",
    "normalized_counts = counts / np.sum(counts)\n",
    "vals = [\"cars\", \"pedestrians\", \"cyclists\"]\n",
    "fig, ax = plt.subplots(figsize=(10,10))\n",
    "ax.bar(vals, normalized_counts[np.array([1,2,4])], width=0.8, align='center')\n",
    "ax.set_title(\"Frequency of classes in random sample of 1000 images\")\n",
    "ax.set_ylabel(\"% of total count\")\n",
    "plt.show()"
   ]
  },
  {
   "cell_type": "code",
   "execution_count": null,
   "metadata": {},
   "outputs": [],
   "source": [
    "# Get pixel value distribution by channel from random sample of 1000 images\n",
    "BS = 1000\n",
    "sample_dataset = dataset.shuffle(buffer_size=1024).take(BS)\n",
    "\n",
    "red_count = np.zeros(256)\n",
    "green_count = np.zeros(256)\n",
    "blue_count = np.zeros(256)\n",
    "for X in sample_dataset:\n",
    "    image = X[\"image\"]\n",
    "    r_, g_, b_ = image[...,0], image[...,1], image[...,2]\n",
    "    red_count = np.add(red_count, np.bincount(r_.numpy().flatten(), minlength=256))\n",
    "    green_count = np.add(green_count, np.bincount(g_.numpy().flatten(), minlength=256))\n",
    "    blue_count = np.add(blue_count, np.bincount(b_.numpy().flatten(), minlength=256))\n",
    "fig, axes = plt.subplots(3,1,figsize=(10,10))\n",
    "\n",
    "axes[0].bar(np.arange(256), red_count/np.sum(red_count), width=0.8, align='center', color='r')\n",
    "axes[0].set_title(\"Distribution of red pixel values across random sample of 1000 images\")\n",
    "axes[0].set_xlabel(\"pixel value\")\n",
    "axes[0].set_ylabel(\"% of total counts\")\n",
    "axes[1].bar(np.arange(256), green_count/np.sum(green_count), width=0.8, align='center', color='g')\n",
    "axes[1].set_title(\"Distribution of green pixel values across random sample of 1000 images\")\n",
    "axes[1].set_xlabel(\"pixel value\")\n",
    "axes[1].set_ylabel(\"% of total counts\")\n",
    "axes[2].bar(np.arange(256), blue_count/np.sum(blue_count), width=0.8, align='center', color='b')\n",
    "axes[2].set_title(\"Distribution of blue pixel values across random sample of 1000 images\")\n",
    "axes[2].set_xlabel(\"pixel value\")\n",
    "axes[2].set_ylabel(\"% of total counts\")\n",
    "fig.tight_layout()\n",
    "plt.show()"
   ]
  },
  {
   "cell_type": "code",
   "execution_count": null,
   "metadata": {},
   "outputs": [],
   "source": [
    "# Create scatter plot of mean vs standard deviation of the image pixel values\n",
    "BS = 1000\n",
    "sample_dataset = dataset.shuffle(buffer_size=1024).take(BS)\n",
    "means = []\n",
    "stddevs = []\n",
    "for X in sample_dataset:\n",
    "    image_arr = X[\"image\"].numpy()\n",
    "    image = Image.fromarray(image_arr)\n",
    "    image = image.convert('L')\n",
    "    stat = Stat(image)\n",
    "    means.append(stat.mean[0])\n",
    "    stddevs.append(stat.stddev[0])\n",
    "fig, ax = plt.subplots(figsize=(10,10))\n",
    "ax.scatter(stddevs, means)\n",
    "ax.set_title(\"Mean vs standard deviation for pixel values of 1000 randomly selected images\")\n",
    "ax.set_xlabel(\"std dev\")\n",
    "ax.set_ylabel(\"mean\")\n",
    "plt.show()"
   ]
  },
  {
   "cell_type": "code",
   "execution_count": null,
   "metadata": {},
   "outputs": [],
   "source": [
    "# Create a histogram of bounding box sizes from random sample of 1000 images\n",
    "BS = 1000\n",
    "sample_dataset = dataset.shuffle(buffer_size=1024).take(BS)\n",
    "box_sizes = []\n",
    "outliers = []\n",
    "for X in sample_dataset:\n",
    "    boxes = X[\"groundtruth_boxes\"]\n",
    "    img = X[\"image\"]\n",
    "    img_width = img.shape[0]\n",
    "    for box in boxes:\n",
    "        y0, x0, y1, x1 = box[0]*img_width, box[1]*img_width, box[2]*img_width, box[3]*img_width\n",
    "        box_size = (y1-y0) * (x1-x0)\n",
    "        if (box_size > 10000.0):\n",
    "            outliers.append(box_size)\n",
    "        else:\n",
    "            box_sizes.append(box_size)\n",
    "    \n",
    "box_sizes_arr = np.array(box_sizes)\n",
    "outliers_arr = np.array(outliers)\n",
    "fig, axes = plt.subplots(2,1, figsize=(10,10))\n",
    "axes[0].hist(box_sizes_arr)\n",
    "axes[1].hist(outliers_arr)\n",
    "axes[0].set_title(\"Distribution of bounding box areas from 1000 randomly selected images (area < 10000px )\")\n",
    "axes[0].set_xlabel(\"Bounding box widths [px]\")\n",
    "axes[0].set_ylabel(\"Counts\")\n",
    "axes[1].set_title(\"Distribution of bounding box areas from 1000 randomly selected images (area > 10000px )\")\n",
    "axes[1].set_xlabel(\"Bounding box widths [px]\")\n",
    "axes[1].set_ylabel(\"Counts\")\n",
    "plt.show()"
   ]
  },
  {
   "cell_type": "code",
   "execution_count": null,
   "metadata": {},
   "outputs": [],
   "source": []
  },
  {
   "cell_type": "code",
   "execution_count": null,
   "metadata": {},
   "outputs": [],
   "source": []
  }
 ],
 "metadata": {
  "kernelspec": {
   "display_name": "Python 3",
   "language": "python",
   "name": "python3"
  },
  "language_info": {
   "codemirror_mode": {
    "name": "ipython",
    "version": 3
   },
   "file_extension": ".py",
   "mimetype": "text/x-python",
   "name": "python",
   "nbconvert_exporter": "python",
   "pygments_lexer": "ipython3",
   "version": "3.7.3"
  }
 },
 "nbformat": 4,
 "nbformat_minor": 4
}
